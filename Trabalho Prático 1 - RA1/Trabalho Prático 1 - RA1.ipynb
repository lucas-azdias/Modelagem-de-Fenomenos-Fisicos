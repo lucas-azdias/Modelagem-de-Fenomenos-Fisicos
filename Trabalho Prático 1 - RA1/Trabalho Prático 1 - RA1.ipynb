{
  "nbformat": 4,
  "nbformat_minor": 0,
  "metadata": {
    "colab": {
      "provenance": [],
      "authorship_tag": "ABX9TyOBCBV73dl4KH+tgNGXj6ug",
      "include_colab_link": true
    },
    "kernelspec": {
      "name": "python3",
      "display_name": "Python 3"
    },
    "language_info": {
      "name": "python"
    }
  },
  "cells": [
    {
      "cell_type": "markdown",
      "metadata": {
        "id": "view-in-github",
        "colab_type": "text"
      },
      "source": [
        "<a href=\"https://colab.research.google.com/github/FunNyLuAz/Modelagem-de-Fenomenos-Fisicos/blob/main/Trabalho%20Pr%C3%A1tico%201%20-%20RA1/Trabalho%20Pr%C3%A1tico%201%20-%20RA1.ipynb\" target=\"_parent\"><img src=\"https://colab.research.google.com/assets/colab-badge.svg\" alt=\"Open In Colab\"/></a>"
      ]
    },
    {
      "cell_type": "markdown",
      "source": [
        "\n",
        "\n",
        "---\n",
        "\n"
      ],
      "metadata": {
        "id": "Yikb814VLsWn"
      }
    },
    {
      "cell_type": "markdown",
      "source": [
        "1. Considerando a função a seguir, crie uma tabela que indique o valor\n",
        "do limite quando 𝑥 tende a 3 pela esquerda e pela direita."
      ],
      "metadata": {
        "id": "8QaIqpBaI9OC"
      }
    },
    {
      "cell_type": "markdown",
      "metadata": {
        "id": "xFbtBjKmqTGJ"
      },
      "source": [
        "## Pela esquerda\n",
        "$x$  | $f(x)$\n",
        "  ------------- | -------------\n",
        "  $$2.5$$  | $$4.5$$\n",
        "  $$2.75$$  | $$4.75$$\n",
        "  $$2.9$$  | $$4.9$$\n",
        "  $$2.99$$  | $$4.99$$\n",
        "\n",
        "<br>\n",
        "\n",
        "  ## Pela direita\n",
        "  $x$  | $f(x)$\n",
        "  ------------- | -------------\n",
        "  $$3.5$$  | $$5.5$$\n",
        "  $$3.25$$  | $$5.25$$\n",
        "  $$3.1$$  | $$5.1$$\n",
        "  $$3.01$$  | $$5.01$$"
      ]
    },
    {
      "cell_type": "code",
      "source": [
        "import matplotlib.pyplot as pyplot\n",
        "import numpy as np\n",
        "\n",
        "\n",
        "# Declara as variáveis usadas\n",
        "x_limit = 3 # x que está sendo estudado\n",
        "x = np.linspace(2.25, 3.75)\n",
        "x_left = [2.5, 2.75, 2.9, 2.99]\n",
        "x_right = [3.5, 3.25, 3.1, 3.01]\n",
        "\n",
        "def f(x):\n",
        "  return (x**2 - 4) / (x - 2)\n",
        "\n",
        "\n",
        "# Configuração do gráfico\n",
        "pyplot.title(\"Gráfico\")\n",
        "pyplot.xlabel(\"x\")\n",
        "pyplot.ylabel(\"y\")\n",
        "\n",
        "# Plotagens ao gráfico\n",
        "pyplot.plot(x, f(x), color=\"green\")\n",
        "for var in x_left:\n",
        "  pyplot.plot(var, f(var), color=\"blue\", marker=\"o\")\n",
        "for var in x_right:\n",
        "  pyplot.plot(var, f(var), color=\"red\", marker=\"o\")\n",
        "pyplot.plot(x_limit, f(x_limit), color=\"yellow\", marker=\"o\")\n",
        "\n",
        "# Mostrar gráfico\n",
        "pyplot.show()\n"
      ],
      "metadata": {
        "colab": {
          "base_uri": "https://localhost:8080/",
          "height": 295
        },
        "id": "zqcPhu1HKywX",
        "outputId": "8fcb94a8-73ca-47ff-e050-e102239034a9"
      },
      "execution_count": 1,
      "outputs": [
        {
          "output_type": "display_data",
          "data": {
            "text/plain": [
              "<Figure size 432x288 with 1 Axes>"
            ],
            "image/png": "[encoded data removed]"
          },
          "metadata": {
            "needs_background": "light"
          }
        }
      ]
    },
    {
      "cell_type": "markdown",
      "source": [
        "\n",
        "\n",
        "---\n",
        "\n"
      ],
      "metadata": {
        "id": "ZbPVpj6SLNMO"
      }
    },
    {
      "cell_type": "markdown",
      "source": [
        "2. Se você chegar a 0/0 tente fatorar o númerador e o denominador\n",
        "para ver se consegue eliminar o denominador."
      ],
      "metadata": {
        "id": "NrFWRPtULOF1"
      }
    },
    {
      "cell_type": "markdown",
      "source": [
        "A) $\\lim_{x \\to 1}(\\frac{x^2-3x+2}{x-1})$"
      ],
      "metadata": {
        "id": "nlgGtVzeQrt5"
      }
    },
    {
      "cell_type": "markdown",
      "source": [
        "Resolvendo com fatoração:\n",
        "$$\\lim_{x \\to 1}(\\frac{x^2-3x+2}{x-1})$$\n",
        "$$\\lim_{x \\to 1}(\\frac{(x-1)(x-2)}{x-1})$$\n",
        "$$\\lim_{x \\to 1}(x-2)$$\n",
        "$$\\therefore-1$$"
      ],
      "metadata": {
        "id": "ybTomFtESoRp"
      }
    },
    {
      "cell_type": "code",
      "source": [
        "from IPython.display import display, Math\n",
        "import sympy as sp\n",
        "\n",
        "\n",
        "l, x = sp.symbols('l x') # Declara as variáveis usadas\n",
        "expr1 = (x**2 - 3*x + 2)\n",
        "expr2 = (x - 1)\n",
        "\n",
        "l = sp.limit(expr1 / expr2, x, 1) # Limite para x tendendo a 1\n",
        "display(Math(f\"O \\space limite \\space é \\space igual \\space a \\space {l}.\"))\n"
      ],
      "metadata": {
        "colab": {
          "base_uri": "https://localhost:8080/",
          "height": 39
        },
        "id": "aJ5OrEb1QcWE",
        "outputId": "b3a67a95-dbc3-4c63-a037-bc08114e6d12"
      },
      "execution_count": 23,
      "outputs": [
        {
          "output_type": "display_data",
          "data": {
            "text/plain": [
              "<IPython.core.display.Math object>"
            ],
            "text/latex": "$\\displaystyle O \\space limite \\space é \\space igual \\space a \\space -1.$"
          },
          "metadata": {}
        }
      ]
    },
    {
      "cell_type": "markdown",
      "source": [
        "B) $\\lim_{x \\to 2}(\\frac{3x^2-2x-5}{x-1})$"
      ],
      "metadata": {
        "id": "e-yHHgMvUIxV"
      }
    },
    {
      "cell_type": "markdown",
      "source": [
        "Resolvendo com substituição:\n",
        "$$\\lim_{x \\to 2}(\\frac{3x^2-2x-5}{x-1})$$\n",
        "$$\\frac{3(2)^2-2(2)-5}{(2)-1}$$\n",
        "$$\\frac{3(4)-4-5}{1}$$\n",
        "$${12-4-5}$$\n",
        "$$\\therefore3$$"
      ],
      "metadata": {
        "id": "EwkDvlGDUIxW"
      }
    },
    {
      "cell_type": "code",
      "source": [
        "from IPython.display import display, Math\n",
        "import sympy as sp\n",
        "\n",
        "\n",
        "l, x = sp.symbols('l x') # Declara as variáveis usadas\n",
        "\n",
        "l = sp.limit((3*x**2 - 2*x - 5) / (x - 1), x, 2) # Limite para x tendendo a 2\n",
        "display(Math(f\"O \\space limite \\space é \\space igual \\space a \\space {l}.\"))"
      ],
      "metadata": {
        "colab": {
          "base_uri": "https://localhost:8080/",
          "height": 39
        },
        "outputId": "9cc0b44e-3ee6-472a-89e1-c8503f63c361",
        "id": "UGKFLpkgUIxW"
      },
      "execution_count": 24,
      "outputs": [
        {
          "output_type": "display_data",
          "data": {
            "text/plain": [
              "<IPython.core.display.Math object>"
            ],
            "text/latex": "$\\displaystyle O \\space limite \\space é \\space igual \\space a \\space 3.$"
          },
          "metadata": {}
        }
      ]
    },
    {
      "cell_type": "markdown",
      "source": [
        "\n",
        "\n",
        "---\n",
        "\n"
      ],
      "metadata": {
        "id": "gDBVqivnZt6i"
      }
    },
    {
      "cell_type": "markdown",
      "source": [
        "3. Considerando as funções a seguir, calcule os limites algebricamente,\n",
        "escrevendo o passo a passo, trace seus gráficos e verifique seus\n",
        "resultados usando o Sympy e qualquer outra calculadora de limites\n",
        "disponível na internet (Wolfram Alpha).\n",
        "\n",
        "OBS.: Usei o site Desmos para averiguar as respostas e os gráficos também."
      ],
      "metadata": {
        "id": "xPyZZOgWZudn"
      }
    },
    {
      "cell_type": "markdown",
      "source": [
        "A) $\\lim_{x \\to 9}(\\sqrt{x-8}+3)$"
      ],
      "metadata": {
        "id": "rBDCout0aMr_"
      }
    },
    {
      "cell_type": "markdown",
      "source": [
        "Resolvendo com substituição:\n",
        "$$\\lim_{x \\to 9}(\\sqrt{x-8}+3)$$\n",
        "$$\\sqrt{9-8}+3$$\n",
        "$$\\sqrt{1}+3$$\n",
        "$$1+3$$\n",
        "$$\\therefore4$$\n",
        "OBS.: Resultado condiz com WolframAlpha"
      ],
      "metadata": {
        "id": "KzK_paa1afJ_"
      }
    },
    {
      "cell_type": "code",
      "source": [
        "from IPython.display import display, Math\n",
        "import sympy as sp\n",
        "\n",
        "\n",
        "x = sp.Symbol('x')\n",
        "\n",
        "f = sp.sqrt(x - 8) + 3\n",
        "\n",
        "l = sp.limit(f, x, 9) # Limite para x tendendo a 9\n",
        "display(Math(f\"O \\space limite \\space é \\space igual \\space a \\space {l}.\"))\n",
        "\n",
        "sp.plot(f)\n"
      ],
      "metadata": {
        "colab": {
          "base_uri": "https://localhost:8080/",
          "height": 336
        },
        "id": "fCBH2b1kbEJf",
        "outputId": "fe1177e4-b542-4ffe-a7dc-64eb06859d0d"
      },
      "execution_count": 10,
      "outputs": [
        {
          "output_type": "display_data",
          "data": {
            "text/plain": [
              "<IPython.core.display.Math object>"
            ],
            "text/latex": "$\\displaystyle O \\space limite \\space é \\space igual \\space a \\space 4.$"
          },
          "metadata": {}
        },
        {
          "output_type": "display_data",
          "data": {
            "text/plain": [
              "<Figure size 432x288 with 1 Axes>"
            ],
            "image/png": "[encoded data removed]"
          },
          "metadata": {
            "needs_background": "light"
          }
        },
        {
          "output_type": "execute_result",
          "data": {
            "text/plain": [
              "<sympy.plotting.plot.Plot at 0x7f6a78cbe9d0>"
            ]
          },
          "metadata": {},
          "execution_count": 10
        }
      ]
    },
    {
      "cell_type": "markdown",
      "source": [
        "B) $\\lim_{x \\to \\frac{3}{2}}(\\frac{2x^2-5x+3}{2x^2-3x})$"
      ],
      "metadata": {
        "id": "CPeXjPuAbSme"
      }
    },
    {
      "cell_type": "markdown",
      "source": [
        "Resolvendo com fatoração:\n",
        "$$\\lim_{x \\to \\frac{3}{2}}(\\frac{2x^2-5x+3}{2x^2-3x})$$\n",
        "$$\\lim_{x \\to \\frac{3}{2}}(\\frac{(x-1)(2x-3)}{x(2x-3)})$$\n",
        "$$\\lim_{x \\to \\frac{3}{2}}\\frac{x-1}{x}$$\n",
        "$$\\frac{\\frac{3}{2}-1}{\\frac{3}{2}}$$\n",
        "$$\\frac{\\frac{1}{2}}{\\frac{3}{2}}$$\n",
        "$$\\therefore\\frac{1}{3}$$\n",
        "\n",
        "OBS.: Resultado condiz com WolframAlpha"
      ],
      "metadata": {
        "id": "f1UE6TvsbSmf"
      }
    },
    {
      "cell_type": "code",
      "source": [
        "from IPython.display import display, Math\n",
        "import sympy as sp\n",
        "\n",
        "\n",
        "x = sp.Symbol('x')\n",
        "\n",
        "f = (2*x**2 - 5*x + 3) / (2*x**2 - 3*x)\n",
        "\n",
        "l = sp.limit(f, x, 3/2) # Limite para x tendendo a 3/2\n",
        "display(Math(f\"O \\space limite \\space é \\space igual \\space a \\space {l}.\"))\n",
        "\n",
        "sp.plot(f)\n"
      ],
      "metadata": {
        "colab": {
          "base_uri": "https://localhost:8080/",
          "height": 336
        },
        "outputId": "4f72e48b-3d9d-41c1-c0c1-bb710cd0ab2b",
        "id": "VXB5v4eEbSmf"
      },
      "execution_count": 11,
      "outputs": [
        {
          "output_type": "display_data",
          "data": {
            "text/plain": [
              "<IPython.core.display.Math object>"
            ],
            "text/latex": "$\\displaystyle O \\space limite \\space é \\space igual \\space a \\space 0.333333333333333.$"
          },
          "metadata": {}
        },
        {
          "output_type": "display_data",
          "data": {
            "text/plain": [
              "<Figure size 432x288 with 1 Axes>"
            ],
            "image/png": "[encoded data removed]"
          },
          "metadata": {
            "needs_background": "light"
          }
        },
        {
          "output_type": "execute_result",
          "data": {
            "text/plain": [
              "<sympy.plotting.plot.Plot at 0x7f6a7889cd60>"
            ]
          },
          "metadata": {},
          "execution_count": 11
        }
      ]
    },
    {
      "cell_type": "markdown",
      "source": [
        "C) $\\lim_{x \\to 9}(\\frac{\\sqrt{x}-3}{x-9})$"
      ],
      "metadata": {
        "id": "Cj0uNtI7kQd3"
      }
    },
    {
      "cell_type": "markdown",
      "source": [
        "Resolvendo com fatoração:\n",
        "$$\\lim_{x \\to 9}(\\frac{\\sqrt{x}-3}{x-9})$$\n",
        "$$\\lim_{x \\to 9}(\\frac{\\sqrt{x}-3}{(\\sqrt{x}+3)(\\sqrt{x}-3)})$$\n",
        "$$\\lim_{x \\to 9}(\\frac{1}{\\sqrt{x}+3})$$\n",
        "$$\\lim_{x \\to 9}(\\frac{1}{\\sqrt{(9)}+3})$$\n",
        "$$\\lim_{x \\to 9}(\\frac{1}{3+3})$$\n",
        "$$\\therefore\\frac{1}{6}$$\n",
        "\n",
        "OBS.: Resultado condiz com WolframAlpha"
      ],
      "metadata": {
        "id": "On8gjS3KkQd3"
      }
    },
    {
      "cell_type": "code",
      "source": [
        "from IPython.display import display, Math\n",
        "import sympy as sp\n",
        "\n",
        "\n",
        "x = sp.Symbol('x')\n",
        "\n",
        "f = (sp.sqrt(x) - 3) / (x - 9)\n",
        "\n",
        "l = sp.limit(f, x, 9) # Limite para x tendendo a 9\n",
        "display(Math(f\"O \\space limite \\space é \\space igual \\space a \\space {l}.\"))\n",
        "\n",
        "sp.plot(f)\n"
      ],
      "metadata": {
        "colab": {
          "base_uri": "https://localhost:8080/",
          "height": 336
        },
        "outputId": "5e003fa3-4562-44ac-bd8f-67d60aa9b8ce",
        "id": "Cq5oVyRtkQd4"
      },
      "execution_count": 12,
      "outputs": [
        {
          "output_type": "display_data",
          "data": {
            "text/plain": [
              "<IPython.core.display.Math object>"
            ],
            "text/latex": "$\\displaystyle O \\space limite \\space é \\space igual \\space a \\space 1/6.$"
          },
          "metadata": {}
        },
        {
          "output_type": "display_data",
          "data": {
            "text/plain": [
              "<Figure size 432x288 with 1 Axes>"
            ],
            "image/png": "[encoded data removed]"
          },
          "metadata": {
            "needs_background": "light"
          }
        },
        {
          "output_type": "execute_result",
          "data": {
            "text/plain": [
              "<sympy.plotting.plot.Plot at 0x7f6a78a6c400>"
            ]
          },
          "metadata": {},
          "execution_count": 12
        }
      ]
    },
    {
      "cell_type": "markdown",
      "source": [
        "D) $\\lim_{x \\to -3}(g(x))$, sendo que $g(x)=\\begin{cases}x^2+3,x\\ge-3\\\\-2x+6,x<-3\\end{cases}$"
      ],
      "metadata": {
        "id": "XTz4CgCOmqAm"
      }
    },
    {
      "cell_type": "markdown",
      "source": [
        "Resolvendo com funções por partes (com substituição):\n",
        "$$\\lim_{x \\to -3}g(x)\\text{, sendo que }g(x)=\\begin{cases}x^2+3,x\\ge-3\\\\-2x+6,x<-3\\end{cases}$$\n",
        "Para a parte 1:\n",
        "$$\\lim_{x \\to -3}x^2+3$$\n",
        "$$(-3)^2+3$$\n",
        "$$9+3$$\n",
        "$$\\therefore12$$\n",
        "Para a parte 2:\n",
        "$$\\lim_{x \\to -3}-2x+6$$\n",
        "$$-2(-3)+6$$\n",
        "$$6+6$$\n",
        "$$\\therefore12$$\n",
        "\n",
        "OBS.: Resultado condiz com WolframAlpha"
      ],
      "metadata": {
        "id": "N2aYpfUWmqAn"
      }
    },
    {
      "cell_type": "code",
      "source": [
        "from IPython.display import display, Math\n",
        "import sympy as sp\n",
        "\n",
        "\n",
        "x = sp.Symbol('x')\n",
        "\n",
        "f1 = x**2 + 3\n",
        "f2 = -2*x + 6\n",
        "\n",
        "l1 = sp.limit(f1, x, -3) # Limite para x tendendo a -3\n",
        "l2 = sp.limit(f2, x, -3) # Limite para x tendendo a -3\n",
        "display(Math(f\"O \\space limite \\space pela \\space parte \\space 1 \\space é \\space igual \\space a \\space {l1}.\"))\n",
        "display(Math(f\"O \\space limite \\space pela \\space parte \\space 2 \\space é \\space igual \\space a \\space {l2}.\"))\n",
        "\n",
        "plt = sp.plot(f1, (x, -3, 10), show=False)\n",
        "plt.append(sp.plot(f2, (x, -10, -3), show=False)[0])\n",
        "plt.show()\n"
      ],
      "metadata": {
        "colab": {
          "base_uri": "https://localhost:8080/",
          "height": 341
        },
        "outputId": "0e7fdf65-9790-492b-930e-d1f5813840cf",
        "id": "w2YVj2NfmqAn"
      },
      "execution_count": 7,
      "outputs": [
        {
          "output_type": "display_data",
          "data": {
            "text/plain": [
              "<IPython.core.display.Math object>"
            ],
            "text/latex": "$\\displaystyle O \\space limite \\space pela \\space parte \\space 1 \\space é \\space igual \\space a \\space 12.$"
          },
          "metadata": {}
        },
        {
          "output_type": "display_data",
          "data": {
            "text/plain": [
              "<IPython.core.display.Math object>"
            ],
            "text/latex": "$\\displaystyle O \\space limite \\space pela \\space parte \\space 2 \\space é \\space igual \\space a \\space 12.$"
          },
          "metadata": {}
        },
        {
          "output_type": "display_data",
          "data": {
            "text/plain": [
              "<Figure size 432x288 with 1 Axes>"
            ],
            "image/png": "[encoded data removed]"
          },
          "metadata": {
            "needs_background": "light"
          }
        }
      ]
    },
    {
      "cell_type": "markdown",
      "source": [
        "\n",
        "\n",
        "---\n",
        "\n"
      ],
      "metadata": {
        "id": "cKsQzhPTn2w8"
      }
    },
    {
      "cell_type": "markdown",
      "source": [
        "4. Resolva os seguintes limites algebricamente, depois verifique com o\n",
        "Sympy e trace seus gráficos:\n",
        "\n",
        "OBS.: Usei o site Desmos para averiguar as respostas e os gráficos também."
      ],
      "metadata": {
        "id": "83InMTuun3n5"
      }
    },
    {
      "cell_type": "markdown",
      "source": [
        "A) $f(x)=\\frac{x-3}{7-x}$"
      ],
      "metadata": {
        "id": "8Al42HGSJ_dG"
      }
    },
    {
      "cell_type": "markdown",
      "source": [
        "Resolução do limite para quando o denominador for nulo:\n",
        "$$\\lim_{(7-x) \\to 0}\\frac{x-3}{7-x}$$\n",
        "$$\\lim_{x \\to 7}\\frac{x-3}{7-x}$$\n",
        "$$\\text{Com }x\\text{ tendendo a 7, o numerador tende a }4$$\n",
        "$$\\lim_{x \\to 7}\\frac{4}{7-x}$$\n",
        "$$\\text{Com }x\\text{ tendendo a 7, o denominador tende a }0$$\n",
        "$$\\frac{4}{0}$$\n",
        "$$\\therefore\\text{Assim, o resultado tende a }\\infty\\text{,}$$\n",
        "$$\\text{sendo que }(\\lim_{x \\to 7^{+}}\\frac{x-3}{7-x})\\to-\\infty\\text{ e }(\\lim_{x \\to 7^{-}}\\frac{x-3}{7-x})\\to+\\infty$$\n",
        "OBS.: Resultado condiz com WolframAlpha"
      ],
      "metadata": {
        "id": "5KOR4KyfJ_dH"
      }
    },
    {
      "cell_type": "code",
      "source": [
        "from IPython.display import display, Math\n",
        "import sympy as sp\n",
        "\n",
        "\n",
        "x = sp.Symbol('x')\n",
        "\n",
        "f = (x - 3) / (7 - x)\n",
        "\n",
        "limit = 7\n",
        "lpos = sp.limit(f, x, limit, '+') # Limite para x tendendo pelos +\n",
        "display(Math(f\"Com \\space x \\\\to {limit}, \\space o \\space limite \\space pelos \\space + \\space é \\space {lpos}.\"))\n",
        "lneg = sp.limit(f, x, limit, '-') # Limite para x tendendo pelos -\n",
        "display(Math(f\"Com \\space x \\\\to {limit}, \\space o \\space limite \\space pelos \\space - \\space é \\space {lneg}.\"))\n",
        "\n",
        "sp.plot(f)\n"
      ],
      "metadata": {
        "colab": {
          "base_uri": "https://localhost:8080/",
          "height": 358
        },
        "outputId": "a6dafa52-3c9c-4125-e426-9f9d0b410467",
        "id": "sDFNr_AJJ_dH"
      },
      "execution_count": 22,
      "outputs": [
        {
          "output_type": "display_data",
          "data": {
            "text/plain": [
              "<IPython.core.display.Math object>"
            ],
            "text/latex": "$\\displaystyle Com \\space x \\to 7, \\space o \\space limite \\space pelos \\space + \\space é \\space -oo.$"
          },
          "metadata": {}
        },
        {
          "output_type": "display_data",
          "data": {
            "text/plain": [
              "<IPython.core.display.Math object>"
            ],
            "text/latex": "$\\displaystyle Com \\space x \\to 7, \\space o \\space limite \\space pelos \\space - \\space é \\space oo.$"
          },
          "metadata": {}
        },
        {
          "output_type": "display_data",
          "data": {
            "text/plain": [
              "<Figure size 432x288 with 1 Axes>"
            ],
            "image/png": "[encoded data removed]"
          },
          "metadata": {
            "needs_background": "light"
          }
        },
        {
          "output_type": "execute_result",
          "data": {
            "text/plain": [
              "<sympy.plotting.plot.Plot at 0x7f6a781dae80>"
            ]
          },
          "metadata": {},
          "execution_count": 22
        }
      ]
    },
    {
      "cell_type": "markdown",
      "source": [
        "B) $f(x)=\\frac{1}{x^2+5x}$"
      ],
      "metadata": {
        "id": "Vg4MaclkO3Aj"
      }
    },
    {
      "cell_type": "markdown",
      "source": [
        "Resolução do limite para quando o denominador for nulo:\n",
        "$$\\lim_{(x^2+5x) \\to 0}\\frac{1}{x^2+5x}$$\n",
        "Parte 1:\n",
        "$$\\lim_{x \\to 0}\\frac{1}{x^2+5x}$$\n",
        "$$\\text{Com }x\\text{ tendendo a 0, o denominador tende a }0$$\n",
        "$$\\frac{1}{0}$$\n",
        "$$\\therefore\\text{Assim, o resultado tende a }\\infty\\text{,}$$\n",
        "$$\\text{sendo que }(\\lim_{x \\to 0^{+}}\\frac{1}{x^2+5x})\\to+\\infty\\text{ e }(\\lim_{x \\to 0^{-}}\\frac{1}{x^2+5x})\\to-\\infty$$\n",
        "Parte 2:\n",
        "$$\\lim_{x \\to -5}\\frac{1}{x^2+5x}$$\n",
        "$$\\text{Com }x\\text{ tendendo a -5, o denominador tende a }0$$\n",
        "$$\\frac{1}{0}$$\n",
        "$$\\therefore\\text{Assim, o resultado tende a }\\infty\\text{,}$$\n",
        "$$\\text{sendo que }(\\lim_{x \\to -5^{+}}\\frac{1}{x^2+5x})\\to-\\infty\\text{ e }(\\lim_{x \\to -5^{-}}\\frac{1}{x^2+5x})\\to+\\infty$$\n",
        "OBS.: Resultado condiz com WolframAlpha"
      ],
      "metadata": {
        "id": "wAYeR02kO3Aj"
      }
    },
    {
      "cell_type": "code",
      "source": [
        "from IPython.display import display, Math\n",
        "import sympy as sp\n",
        "\n",
        "\n",
        "x = sp.Symbol('x')\n",
        "\n",
        "f = 1 / (x**2 + 5*x)\n",
        "\n",
        "limit1 = 0\n",
        "l1pos = sp.limit(f, x, limit1, '+') # Limite para x tendendo pelos +\n",
        "display(Math(f\"Com \\space x \\\\to {limit1}, \\space o \\space limite \\space pelos \\space + \\space é \\space {l1pos}.\"))\n",
        "l1neg = sp.limit(f, x, limit1, '-') # Limite para x tendendo pelos -\n",
        "display(Math(f\"Com \\space x \\\\to {limit1}, \\space o \\space limite \\space pelos \\space - \\space é \\space {l1neg}.\"))\n",
        "\n",
        "limit2 = -5\n",
        "l2pos = sp.limit(f, x, limit2, '+') # Limite para x tendendo pelos +\n",
        "display(Math(f\"Com \\space x \\\\to {limit2}, \\space o \\space limite \\space pelos \\space + \\space é \\space {l2pos}.\"))\n",
        "l2neg = sp.limit(f, x, limit2, '-') # Limite para x tendendo pelos -\n",
        "display(Math(f\"Com \\space x \\\\to {limit2}, \\space o \\space limite \\space pelos \\space - \\space é \\space {l2neg}.\"))\n",
        "\n",
        "sp.plot(f)\n"
      ],
      "metadata": {
        "colab": {
          "base_uri": "https://localhost:8080/",
          "height": 402
        },
        "outputId": "a87393ac-269b-4943-a27e-509cfbeafe0a",
        "id": "Wdt9ZwNLO3Ak"
      },
      "execution_count": 21,
      "outputs": [
        {
          "output_type": "display_data",
          "data": {
            "text/plain": [
              "<IPython.core.display.Math object>"
            ],
            "text/latex": "$\\displaystyle Com \\space x \\to 0, \\space o \\space limite \\space pelos \\space + \\space é \\space oo.$"
          },
          "metadata": {}
        },
        {
          "output_type": "display_data",
          "data": {
            "text/plain": [
              "<IPython.core.display.Math object>"
            ],
            "text/latex": "$\\displaystyle Com \\space x \\to 0, \\space o \\space limite \\space pelos \\space - \\space é \\space -oo.$"
          },
          "metadata": {}
        },
        {
          "output_type": "display_data",
          "data": {
            "text/plain": [
              "<IPython.core.display.Math object>"
            ],
            "text/latex": "$\\displaystyle Com \\space x \\to -5, \\space o \\space limite \\space pelos \\space + \\space é \\space -oo.$"
          },
          "metadata": {}
        },
        {
          "output_type": "display_data",
          "data": {
            "text/plain": [
              "<IPython.core.display.Math object>"
            ],
            "text/latex": "$\\displaystyle Com \\space x \\to -5, \\space o \\space limite \\space pelos \\space - \\space é \\space oo.$"
          },
          "metadata": {}
        },
        {
          "output_type": "display_data",
          "data": {
            "text/plain": [
              "<Figure size 432x288 with 1 Axes>"
            ],
            "image/png": "[encoded data removed]"
          },
          "metadata": {
            "needs_background": "light"
          }
        },
        {
          "output_type": "execute_result",
          "data": {
            "text/plain": [
              "<sympy.plotting.plot.Plot at 0x7f6a782e5e50>"
            ]
          },
          "metadata": {},
          "execution_count": 21
        }
      ]
    },
    {
      "cell_type": "markdown",
      "source": [
        "C) $f(x)=\\frac{x-1}{x^2+5x-6}$"
      ],
      "metadata": {
        "id": "zc28WXksXKZQ"
      }
    },
    {
      "cell_type": "markdown",
      "source": [
        "$$f(x)=\\frac{x-1}{x^2+5x-6}$$\n",
        "$$f(x)=\\frac{x-1}{(x-1)(x+6)}$$\n",
        "$$f(x)=\\frac{1}{x+6}$$\n",
        "Resolução do limite para quando o denominador for nulo:\n",
        "$$\\lim_{(x+6) \\to 0}\\frac{1}{x+6}$$\n",
        "$$\\lim_{x \\to -6}\\frac{1}{x+6}$$\n",
        "$$\\text{Com }x\\text{ tendendo a -6, o denominador tende a }0$$\n",
        "$$\\frac{1}{0}$$\n",
        "$$\\therefore\\text{Assim, o resultado tende a }\\infty\\text{,}$$\n",
        "$$\\text{sendo que }(\\lim_{x \\to -6^{+}}\\frac{1}{x+6})\\to+\\infty\\text{ e }(\\lim_{x \\to -6^{-}}\\frac{1}{x+6})\\to-\\infty$$\n",
        "OBS.: Resultado condiz com WolframAlpha"
      ],
      "metadata": {
        "id": "EZBVMXFyXKZW"
      }
    },
    {
      "cell_type": "code",
      "source": [
        "from IPython.display import display, Math\n",
        "import sympy as sp\n",
        "\n",
        "\n",
        "x = sp.Symbol('x')\n",
        "\n",
        "f = 1 / (x + 6)\n",
        "\n",
        "limit = -6\n",
        "lpos = sp.limit(f, x, limit, '+') # Limite para x tendendo pelos +\n",
        "display(Math(f\"Com \\space x \\\\to {limit}, \\space o \\space limite \\space pelos \\space + \\space é \\space {lpos}.\"))\n",
        "lneg = sp.limit(f, x, limit, '-') # Limite para x tendendo pelos -\n",
        "display(Math(f\"Com \\space x \\\\to {limit}, \\space o \\space limite \\space pelos \\space - \\space é \\space {lneg}.\"))\n",
        "\n",
        "sp.plot(f)\n"
      ],
      "metadata": {
        "colab": {
          "base_uri": "https://localhost:8080/",
          "height": 358
        },
        "outputId": "18154306-05b6-4faf-df0a-3ce5f0e68e7b",
        "id": "eXNwBRiPXKZX"
      },
      "execution_count": 1,
      "outputs": [
        {
          "output_type": "display_data",
          "data": {
            "text/plain": [
              "<IPython.core.display.Math object>"
            ],
            "text/latex": "$\\displaystyle Com \\space x \\to -6, \\space o \\space limite \\space pelos \\space + \\space é \\space oo.$"
          },
          "metadata": {}
        },
        {
          "output_type": "display_data",
          "data": {
            "text/plain": [
              "<IPython.core.display.Math object>"
            ],
            "text/latex": "$\\displaystyle Com \\space x \\to -6, \\space o \\space limite \\space pelos \\space - \\space é \\space -oo.$"
          },
          "metadata": {}
        },
        {
          "output_type": "display_data",
          "data": {
            "text/plain": [
              "<Figure size 432x288 with 1 Axes>"
            ],
            "image/png": "[encoded data removed]"
          },
          "metadata": {
            "needs_background": "light"
          }
        },
        {
          "output_type": "execute_result",
          "data": {
            "text/plain": [
              "<sympy.plotting.plot.Plot at 0x7f9c4af7f6a0>"
            ]
          },
          "metadata": {},
          "execution_count": 1
        }
      ]
    },
    {
      "cell_type": "markdown",
      "source": [
        "D) $f(x)=\\frac{3+x}{x^2-2}$"
      ],
      "metadata": {
        "id": "FRko14bkEszV"
      }
    },
    {
      "cell_type": "markdown",
      "source": [
        "Resolução do limite para quando o denominador for nulo:\n",
        "$$\\lim_{(x^2-2) \\to 0}\\frac{3+x}{x^2-2}$$\n",
        "Parte 1:\n",
        "$$\\text{Com }x\\text{ tendendo a }\\sqrt{2}\\text{, o numerador tende a }(3+\\sqrt{2})$$\n",
        "$$\\lim_{x \\to \\sqrt{2}}\\frac{3+\\sqrt{2}}{x^2-2}$$\n",
        "$$\\text{Com }x\\text{ tendendo a }\\sqrt{2}\\text{, o denominador tende a }0$$\n",
        "$$\\frac{3+\\sqrt{2}}{0}$$\n",
        "$$\\therefore\\text{Assim, o resultado tende a }\\infty\\text{,}$$\n",
        "$$\\text{sendo que }(\\lim_{x \\to  \\sqrt{2}^{+}}\\frac{3+x}{x^2-2})\\to+\\infty\\text{ e }(\\lim_{x \\to \\sqrt{2}^{-}}\\frac{3+x}{x^2-2})\\to-\\infty$$\n",
        "Parte 2:\n",
        "$$\\text{Com }x\\text{ tendendo a }-\\sqrt{2}\\text{, o numerador tende a }(3-\\sqrt{2})$$\n",
        "$$\\lim_{x \\to -\\sqrt{2}}\\frac{3-\\sqrt{2}}{x^2-2}$$\n",
        "$$\\text{Com }x\\text{ tendendo a }-\\sqrt{2}\\text{, o denominador tende a }0$$\n",
        "$$\\frac{3-\\sqrt{2}}{0}$$\n",
        "$$\\therefore\\text{Assim, o resultado tende a }\\infty\\text{,}$$\n",
        "$$\\text{sendo que }(\\lim_{x \\to  -\\sqrt{2}^{+}}\\frac{3+x}{x^2-2})\\to-\\infty\\text{ e }(\\lim_{x \\to -\\sqrt{2}^{-}}\\frac{3+x}{x^2-2})\\to+\\infty$$\n",
        "OBS.: Resultado condiz com WolframAlpha"
      ],
      "metadata": {
        "id": "5eOvE4QqEszW"
      }
    },
    {
      "cell_type": "code",
      "source": [
        "from IPython.display import display, Math\n",
        "import sympy as sp\n",
        "\n",
        "\n",
        "x = sp.Symbol('x')\n",
        "\n",
        "f = (3 + x) / (x**2 - 2)\n",
        "\n",
        "limit1 = sp.sqrt(2)\n",
        "l1pos = sp.limit(f, x, limit1, '+') # Limite para x tendendo pelos +\n",
        "display(Math(f\"Com \\space x \\\\to {limit1}, \\space o \\space limite \\space pelos \\space + \\space é \\space {l1pos}.\"))\n",
        "l1neg = sp.limit(f, x, limit1, '-') # Limite para x tendendo pelos -\n",
        "display(Math(f\"Com \\space x \\\\to {limit1}, \\space o \\space limite \\space pelos \\space - \\space é \\space {l1neg}.\"))\n",
        "\n",
        "limit2 = -sp.sqrt(2)\n",
        "l2pos = sp.limit(f, x, limit2, '+') # Limite para x tendendo pelos +\n",
        "display(Math(f\"Com \\space x \\\\to {limit2}, \\space o \\space limite \\space pelos \\space + \\space é \\space {l2pos}.\"))\n",
        "l2neg = sp.limit(f, x, limit2, '-') # Limite para x tendendo pelos -\n",
        "display(Math(f\"Com \\space x \\\\to {limit2}, \\space o \\space limite \\space pelos \\space - \\space é \\space {l2neg}.\"))\n",
        "\n",
        "sp.plot(f)\n"
      ],
      "metadata": {
        "colab": {
          "base_uri": "https://localhost:8080/",
          "height": 402
        },
        "outputId": "da0779b9-772d-44c3-8165-49e1ae6631ac",
        "id": "DFOyouGjEszW"
      },
      "execution_count": 4,
      "outputs": [
        {
          "output_type": "display_data",
          "data": {
            "text/plain": [
              "<IPython.core.display.Math object>"
            ],
            "text/latex": "$\\displaystyle Com \\space x \\to sqrt(2), \\space o \\space limite \\space pelos \\space + \\space é \\space oo.$"
          },
          "metadata": {}
        },
        {
          "output_type": "display_data",
          "data": {
            "text/plain": [
              "<IPython.core.display.Math object>"
            ],
            "text/latex": "$\\displaystyle Com \\space x \\to sqrt(2), \\space o \\space limite \\space pelos \\space - \\space é \\space -oo.$"
          },
          "metadata": {}
        },
        {
          "output_type": "display_data",
          "data": {
            "text/plain": [
              "<IPython.core.display.Math object>"
            ],
            "text/latex": "$\\displaystyle Com \\space x \\to -sqrt(2), \\space o \\space limite \\space pelos \\space + \\space é \\space -oo.$"
          },
          "metadata": {}
        },
        {
          "output_type": "display_data",
          "data": {
            "text/plain": [
              "<IPython.core.display.Math object>"
            ],
            "text/latex": "$\\displaystyle Com \\space x \\to -sqrt(2), \\space o \\space limite \\space pelos \\space - \\space é \\space oo.$"
          },
          "metadata": {}
        },
        {
          "output_type": "display_data",
          "data": {
            "text/plain": [
              "<Figure size 432x288 with 1 Axes>"
            ],
            "image/png": "[encoded data removed]"
          },
          "metadata": {
            "needs_background": "light"
          }
        },
        {
          "output_type": "execute_result",
          "data": {
            "text/plain": [
              "<sympy.plotting.plot.Plot at 0x7f9c48829ca0>"
            ]
          },
          "metadata": {},
          "execution_count": 4
        }
      ]
    }
  ]
}
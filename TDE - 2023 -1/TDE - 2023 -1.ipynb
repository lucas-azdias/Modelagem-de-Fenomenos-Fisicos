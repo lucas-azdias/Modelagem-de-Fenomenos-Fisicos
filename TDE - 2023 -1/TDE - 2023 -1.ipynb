{
  "nbformat": 4,
  "nbformat_minor": 0,
  "metadata": {
    "colab": {
      "provenance": [],
      "authorship_tag": "ABX9TyMfMcrGhbJPhzHy3Pb0JZtN",
      "include_colab_link": true
    },
    "kernelspec": {
      "name": "python3",
      "display_name": "Python 3"
    },
    "language_info": {
      "name": "python"
    }
  },
  "cells": [
    {
      "cell_type": "markdown",
      "metadata": {
        "id": "view-in-github",
        "colab_type": "text"
      },
      "source": [
        "<a href=\"https://colab.research.google.com/github/FunNyLuAz/Modelagem-de-Fenomenos-Fisicos/blob/main/TDE%20-%202023%20-1/TDE%20-%202023%20-1.ipynb\" target=\"_parent\"><img src=\"https://colab.research.google.com/assets/colab-badge.svg\" alt=\"Open In Colab\"/></a>"
      ]
    },
    {
      "cell_type": "markdown",
      "source": [
        "#1. Resolução"
      ],
      "metadata": {
        "id": "JT6uuqt3oKoa"
      }
    },
    {
      "cell_type": "markdown",
      "source": [
        "Escreva uma função em Python que compute o valor da função abaixo, emitindo uma mensagem de erro caso a função receba um valor não permitido. Além disso, a função deverá plotar um gráfico da função no intervalo entre ±10, destacando neste gráfico os pontos relacionados ao valor de passado para a função.\n",
        "\n",
        "$$f(x)=\\frac{1}{\\sqrt{2-x}}$$"
      ],
      "metadata": {
        "id": "UscE5Jo6oUOp"
      }
    },
    {
      "cell_type": "code",
      "execution_count": 40,
      "metadata": {
        "colab": {
          "base_uri": "https://localhost:8080/",
          "height": 513
        },
        "id": "hFbMq3Tkn6pn",
        "outputId": "fbfe4569-c834-4455-9304-3a59484bfed3"
      },
      "outputs": [
        {
          "name": "stdout",
          "output_type": "stream",
          "text": [
            "Digite o valor para computar com a função: -5\n"
          ]
        },
        {
          "output_type": "stream",
          "name": "stderr",
          "text": [
            "<ipython-input-40-0e6a111e71dd>:31: RuntimeWarning: invalid value encountered in sqrt\n",
            "  y = lambda x: 1 / ((2 - x)**(1/2))\n"
          ]
        },
        {
          "output_type": "display_data",
          "data": {
            "text/plain": [
              "<Figure size 640x480 with 1 Axes>"
            ],
            "image/png": "[encoded data removed]"
          },
          "metadata": {}
        }
      ],
      "source": [
        "import matplotlib.pyplot as pyplot\n",
        "import numpy as np\n",
        "\n",
        "\n",
        "# Variáveis iniciais\n",
        "x_min = -10\n",
        "x_max = 10\n",
        "x_input = input(\"Digite o valor para computar com a função: \")\n",
        "\n",
        "try:\n",
        "  x_input = int(x_input)\n",
        "except ValueError:\n",
        "  print(\"Valor inválido passado.\")\n",
        "  exit()\n",
        "\n",
        "\n",
        "# Função que computa a função e mostra gráfico\n",
        "def plotFunc(x):\n",
        "  # Evitar divisão por zero e raiz de negativo\n",
        "  if x == 2:  # Gera divisão por zero\n",
        "    raise ZeroDivisionError(\"Valor inválido passado para a função.\")\n",
        "  elif x > 2:  # Gera raiz de negativo\n",
        "    raise ArithmeticError(\"Valor inválido passado para a função.\")\n",
        "\n",
        "  # Gráfico\n",
        "  pyplot.title(r\"$f(x)=\\frac{1}{\\sqrt{2-x}}$\")\n",
        "  pyplot.xlim(x_min, x_max)\n",
        "\n",
        "  x = np.linspace(x_min, x_max, 500)\n",
        "  y = lambda x: 1 / ((2 - x)**(1/2))\n",
        "  pyplot.plot(x, y(x), color=\"red\")\n",
        "  pyplot.plot(x_input, y(x_input), marker=\"o\", color=\"black\")\n",
        "\n",
        "  pyplot.show()\n",
        "\n",
        "\n",
        "# Chamada da função\n",
        "plotFunc(x_input)"
      ]
    },
    {
      "cell_type": "markdown",
      "source": [
        "\n",
        "\n",
        "---\n",
        "\n"
      ],
      "metadata": {
        "id": "MFz06BJGo5Mp"
      }
    },
    {
      "cell_type": "markdown",
      "source": [
        "#2. Resolução\n"
      ],
      "metadata": {
        "id": "6qOyFvpHostR"
      }
    },
    {
      "cell_type": "markdown",
      "source": [
        "Utilizando a linguagem Python, e somente as bibliotecas Matplotlib e Numpy, crie uma\n",
        "função para plotar uma raquete de tênis de mesa. No seu gráfico a raquete deve ser plotada\n",
        "de forma que seja possível observar tanto o cabo quanto a área de rebatimento."
      ],
      "metadata": {
        "id": "fAwGg6x0ov3a"
      }
    },
    {
      "cell_type": "markdown",
      "source": [
        "R.:\n",
        "$$|y_{1}|=\\sqrt{1-x^2}$$\n",
        "$$y_{2}=-\\sqrt{2-100x^4}$$"
      ],
      "metadata": {
        "id": "YWpXZqNwc6ep"
      }
    },
    {
      "cell_type": "code",
      "source": [
        "# FAZER RAQUETE COM CIRCLE E RECT ou usando um circulo e a outra funcao q eu ja usei ligadas\n",
        "\n",
        "import matplotlib.pyplot as pyplot\n",
        "import numpy as np\n",
        "\n",
        "\n",
        "# Função que mostra o gráfico da função em forma de raquete de tênis\n",
        "def plotRaqueteTenis():\n",
        "  pyplot.title(r\"Raquete de tênis\")\n",
        "  pyplot.xlim(-1.25, 1.25)\n",
        "  pyplot.gca().set_aspect('equal', 'datalim')\n",
        "\n",
        "  x = np.linspace(-1, 1, 99999)\n",
        "\n",
        "  y1 = lambda x: np.sqrt(1 - x**2)\n",
        "  pyplot.plot(x, y1(x), color=\"red\")\n",
        "  pyplot.plot(x, -y1(x), color=\"red\")\n",
        "\n",
        "  y2 = lambda x: -np.sqrt(2 - 100*x**4)-1\n",
        "  pyplot.plot(x, y2(x), color=\"red\")\n",
        "\n",
        "  pyplot.show()\n",
        "\n",
        "\n",
        "# Chamada da função\n",
        "plotRaqueteTenis()"
      ],
      "metadata": {
        "colab": {
          "base_uri": "https://localhost:8080/",
          "height": 488
        },
        "id": "g0VZh2Zaox1p",
        "outputId": "5bb9efed-0651-4d39-c7db-050bb330108f"
      },
      "execution_count": 15,
      "outputs": [
        {
          "output_type": "stream",
          "name": "stderr",
          "text": [
            "<ipython-input-15-4e21dc0f619a>:19: RuntimeWarning: invalid value encountered in sqrt\n",
            "  y2 = lambda x: -np.sqrt(2 - 100*x**4)-1\n"
          ]
        },
        {
          "output_type": "display_data",
          "data": {
            "text/plain": [
              "<Figure size 640x480 with 1 Axes>"
            ],
            "image/png": "[encoded data removed]"
          },
          "metadata": {}
        }
      ]
    },
    {
      "cell_type": "markdown",
      "source": [
        "\n",
        "\n",
        "---\n",
        "\n"
      ],
      "metadata": {
        "id": "IHeCDqDDo6To"
      }
    },
    {
      "cell_type": "markdown",
      "source": [
        "#3. Resolução"
      ],
      "metadata": {
        "id": "HEiledB7o0jb"
      }
    },
    {
      "cell_type": "markdown",
      "source": [
        "Utilizando a linguagem Python, nenhuma biblioteca extra e List Comprehension crie uma\n",
        "função que devolva o resultado da fórmula a seguir para 𝑛 elementos.\n",
        "\n",
        "$$f(x)=4(1-\\sum^{x}_{n=1}{\\frac{1}{1+2n}})$$"
      ],
      "metadata": {
        "id": "M1D-A8-Io4QB"
      }
    },
    {
      "cell_type": "code",
      "source": [
        "# Função\n",
        "def func(x: int):\n",
        "  if x < 1:\n",
        "    raise ValueError(\"Valor inválido passado (menor que 1).\")\n",
        "  \n",
        "  sum = 0\n",
        "  for n in range(x):\n",
        "    sum += 1 / (1 + 2*(n + 1))\n",
        "  val = 4 * (1 - sum)\n",
        "\n",
        "  return val\n",
        "\n",
        "\n",
        "# Chamada da função\n",
        "print(func(5))"
      ],
      "metadata": {
        "colab": {
          "base_uri": "https://localhost:8080/"
        },
        "id": "BmiW6uUro-p6",
        "outputId": "60ed1f7e-3dd5-4d42-ef28-1861b65f3762"
      },
      "execution_count": 6,
      "outputs": [
        {
          "output_type": "stream",
          "name": "stdout",
          "text": [
            "0.4871572871572867\n"
          ]
        }
      ]
    },
    {
      "cell_type": "markdown",
      "source": [
        "\n",
        "\n",
        "---\n",
        "\n"
      ],
      "metadata": {
        "id": "kyS4Sb2do9P0"
      }
    },
    {
      "cell_type": "markdown",
      "source": [
        "#4. Resolução"
      ],
      "metadata": {
        "id": "PqycEQmLpCLA"
      }
    },
    {
      "cell_type": "markdown",
      "source": [
        "Usando a linguagem Python, sem utilizar as bibliotecas Sympy e Numpy, escreva uma função\n",
        "que receba um valor 𝑛 no domínio dos números reais e devolva o limite da função dada a\n",
        "seguir quando 𝑥 tende a 𝑛.\n",
        "\n",
        "$$f(x)=\\frac{3x^2-1}{\\sqrt{x}}$$"
      ],
      "metadata": {
        "id": "i6XNjFlGpCLB"
      }
    },
    {
      "cell_type": "code",
      "source": [
        "# Função\n",
        "def func(n: float):\n",
        "  if n < 0:\n",
        "    raise ValueError(\"Valor inválido passado (menor que 0).\")\n",
        "  elif n == 0:\n",
        "    return None\n",
        "  else:\n",
        "    return (2 * n**2 - 1) / (n**(1/2))\n",
        "\n",
        "\n",
        "# Chamada da função\n",
        "print(func(5))"
      ],
      "metadata": {
        "colab": {
          "base_uri": "https://localhost:8080/"
        },
        "id": "E7ySsaUFpCLB",
        "outputId": "67136410-c1cd-443d-c62e-f6d759450db5"
      },
      "execution_count": 4,
      "outputs": [
        {
          "output_type": "stream",
          "name": "stdout",
          "text": [
            "21.913466179497938\n"
          ]
        }
      ]
    },
    {
      "cell_type": "markdown",
      "source": [
        "\n",
        "\n",
        "---\n",
        "\n"
      ],
      "metadata": {
        "id": "A4nB_nP3QzEY"
      }
    },
    {
      "cell_type": "markdown",
      "source": [
        "#5. Resolução"
      ],
      "metadata": {
        "id": "VZp0P6NmpYz3"
      }
    },
    {
      "cell_type": "markdown",
      "source": [
        "ClockCom é uma fábrica de relógios digitais capaz de produzir 1500 relógios por mês. Quando\n",
        "eles vendem 𝑥 relógios em um mês seu lucro é dado por\n",
        "$$f(x) = 300000 − 36000x + 75x^2 − \\frac{x^3}{3}$$\n",
        "Quantos relógios eles precisam vender por mês para maximizar seu lucro? Além de responder\n",
        "a pergunta referente ao lucro máximo, você precisará fazer uma função que devolva o lucro\n",
        "obtido para um determinado número 𝑥 de relógios vendidos em um determinado mês e\n",
        "plote esta função, destacando o ponto de lucro máximo e o ponto referente a quantidade\n",
        "vendida em um mês específico."
      ],
      "metadata": {
        "id": "2o1k_9JCpS1i"
      }
    },
    {
      "cell_type": "markdown",
      "source": [
        "R.: Por ser uma função decrescente e que se pode apenas se considerar os valores naturais para $x$ no intervalo $[0, 15]$, então o valor do lucro será maximizado vendendo nenhum relógio.\n",
        "\n",
        "Obs.: Considero os naturais como {0, 1, 2, 3, ...}."
      ],
      "metadata": {
        "id": "4-9N34V2qxfj"
      }
    },
    {
      "cell_type": "code",
      "source": [
        "import matplotlib.pyplot as pyplot\n",
        "import numpy as np\n",
        "\n",
        "\n",
        "x_input = input(\"Digite o valor para computar com a função: \")\n",
        "\n",
        "try:\n",
        "  x_input = int(x_input)\n",
        "except ValueError:\n",
        "  print(\"Valor inválido passado.\")\n",
        "  exit()\n",
        "\n",
        "\n",
        "# Função que computa a função e mostra gráfico\n",
        "def plotLucro(x):\n",
        "  x_min = 0\n",
        "  x_max = 15  # Máximo de relógios que podem ser produzidos\n",
        "\n",
        "  if x < x_min:  # Número não-natural passado\n",
        "    raise ValueError(f\"Valor inválido passado (menor que {x_min}).\")\n",
        "  elif x > x_max:  # Número maior que a produção\n",
        "    raise ValueError(f\"Valor inválido passado (maior que {x_max}).\")\n",
        "\n",
        "  # Gráfico\n",
        "  pyplot.title(\"Gráfico do lucro pela quantidade de relógios\")\n",
        "  pyplot.ylabel(\"Lucro\")\n",
        "  pyplot.xlabel(\"Quantidade de relógios\")\n",
        "  pyplot.axhline(linestyle=\"--\", color=\"black\")\n",
        "  pyplot.xlim(x_min, x_max)\n",
        "\n",
        "  x = np.linspace(x_min, x_max, 500)\n",
        "  y = lambda x: 300000 - 36000*x + 75*x**2 - x**3/3\n",
        "  pyplot.plot(x, y(x), color=\"red\")\n",
        "  pyplot.plot(x.item(y(x).argmax()), np.max(y(x)), marker=\"o\", color=\"black\")\n",
        "  pyplot.plot(x_input, y(x_input), marker=\"o\", color=\"black\")\n",
        "\n",
        "  pyplot.show()\n",
        "\n",
        "\n",
        "# Chamada da função\n",
        "plotLucro(x_input)"
      ],
      "metadata": {
        "colab": {
          "base_uri": "https://localhost:8080/",
          "height": 490
        },
        "id": "X6zDVqFQpZsA",
        "outputId": "0b171c2a-1e3f-48f3-cefa-54196be0046a"
      },
      "execution_count": 5,
      "outputs": [
        {
          "name": "stdout",
          "output_type": "stream",
          "text": [
            "Digite o valor para computar com a função: 5\n"
          ]
        },
        {
          "output_type": "display_data",
          "data": {
            "text/plain": [
              "<Figure size 640x480 with 1 Axes>"
            ],
            "image/png": "[encoded data removed]"
          },
          "metadata": {}
        }
      ]
    },
    {
      "cell_type": "markdown",
      "source": [
        "\n",
        "\n",
        "---\n",
        "\n"
      ],
      "metadata": {
        "id": "l6APpIU3paDG"
      }
    }
  ]
}